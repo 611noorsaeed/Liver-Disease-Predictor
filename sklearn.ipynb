{
 "cells": [
  {
   "cell_type": "markdown",
   "id": "8f90aad9",
   "metadata": {
    "vscode": {
     "languageId": "plaintext"
    }
   },
   "source": [
    "# ## 🩺 Liver Disease Dataset\n",
    "\n",
    "### 📘 Overview\n",
    "Binary classification dataset to predict **liver disease (1)** or **no disease (0)** based on medical test results.\n",
    "\n",
    "### 🧩 Features\n",
    "- **Age:** Age of patient  \n",
    "- **Gender:** Male/Female  \n",
    "- **Total_Bilirubin, Direct_Bilirubin:** Bilirubin levels  \n",
    "- **Alkaline_Phosphotase, ALT, AST:** Liver enzymes  \n",
    "- **Total_Protiens, Albumin:** Protein levels  \n",
    "- **Albumin_and_Globulin_Ratio:** Protein ratio  \n",
    "- **Dataset (Target):** 1 = Liver disease, 0 = No disease  \n",
    "\n",
    "### 🧾 Sample\n",
    "| Age | Gender | Total_Bilirubin | Direct_Bilirubin | Alk_Phos | ALT | AST | Total_Protiens | Albumin | A/G_Ratio | Dataset |\n",
    "|-----|---------|-----------------|------------------|-----------|-----|-----|----------------|----------|------------|----------|\n",
    "| 65 | Female | 0.7 | 0.1 | 187 | 16 | 18 | 6.8 | 3.3 | 0.90 | 1 |\n",
    "| 62 | Male | 10.9 | 5.5 | 699 | 64 | 100 | 7.5 | 3.2 | 0.74 | 1 |\n",
    "| 62 | Male | 7.3 | 4.1 | 490 | 60 | 68 | 7.0 | 3.3 | 0.89 | 1 |\n",
    "\n",
    "### 🎯 Goal\n",
    "Predict if a patient has **liver disease (1)** or **not (0)** using medical attributes.\n",
    "\n",
    "\n",
    "\n",
    "\n",
    "\n",
    "# 1. Load Dataset"
   ]
  },
  {
   "cell_type": "code",
   "execution_count": 2,
   "metadata": {},
   "outputs": [
    {
     "data": {
      "text/html": [
       "<div>\n",
       "<style scoped>\n",
       "    .dataframe tbody tr th:only-of-type {\n",
       "        vertical-align: middle;\n",
       "    }\n",
       "\n",
       "    .dataframe tbody tr th {\n",
       "        vertical-align: top;\n",
       "    }\n",
       "\n",
       "    .dataframe thead th {\n",
       "        text-align: right;\n",
       "    }\n",
       "</style>\n",
       "<table border=\"1\" class=\"dataframe\">\n",
       "  <thead>\n",
       "    <tr style=\"text-align: right;\">\n",
       "      <th></th>\n",
       "      <th>Age</th>\n",
       "      <th>Gender</th>\n",
       "      <th>Total_Bilirubin</th>\n",
       "      <th>Direct_Bilirubin</th>\n",
       "      <th>Alkaline_Phosphotase</th>\n",
       "      <th>Alamine_Aminotransferase</th>\n",
       "      <th>Aspartate_Aminotransferase</th>\n",
       "      <th>Total_Protiens</th>\n",
       "      <th>Albumin</th>\n",
       "      <th>Albumin_and_Globulin_Ratio</th>\n",
       "      <th>Dataset</th>\n",
       "    </tr>\n",
       "  </thead>\n",
       "  <tbody>\n",
       "    <tr>\n",
       "      <th>0</th>\n",
       "      <td>65</td>\n",
       "      <td>Female</td>\n",
       "      <td>0.7</td>\n",
       "      <td>0.1</td>\n",
       "      <td>187</td>\n",
       "      <td>16</td>\n",
       "      <td>18</td>\n",
       "      <td>6.8</td>\n",
       "      <td>3.3</td>\n",
       "      <td>0.90</td>\n",
       "      <td>1</td>\n",
       "    </tr>\n",
       "    <tr>\n",
       "      <th>1</th>\n",
       "      <td>62</td>\n",
       "      <td>Male</td>\n",
       "      <td>10.9</td>\n",
       "      <td>5.5</td>\n",
       "      <td>699</td>\n",
       "      <td>64</td>\n",
       "      <td>100</td>\n",
       "      <td>7.5</td>\n",
       "      <td>3.2</td>\n",
       "      <td>0.74</td>\n",
       "      <td>1</td>\n",
       "    </tr>\n",
       "    <tr>\n",
       "      <th>2</th>\n",
       "      <td>62</td>\n",
       "      <td>Male</td>\n",
       "      <td>7.3</td>\n",
       "      <td>4.1</td>\n",
       "      <td>490</td>\n",
       "      <td>60</td>\n",
       "      <td>68</td>\n",
       "      <td>7.0</td>\n",
       "      <td>3.3</td>\n",
       "      <td>0.89</td>\n",
       "      <td>1</td>\n",
       "    </tr>\n",
       "    <tr>\n",
       "      <th>3</th>\n",
       "      <td>58</td>\n",
       "      <td>Male</td>\n",
       "      <td>1.0</td>\n",
       "      <td>0.4</td>\n",
       "      <td>182</td>\n",
       "      <td>14</td>\n",
       "      <td>20</td>\n",
       "      <td>6.8</td>\n",
       "      <td>3.4</td>\n",
       "      <td>1.00</td>\n",
       "      <td>1</td>\n",
       "    </tr>\n",
       "    <tr>\n",
       "      <th>4</th>\n",
       "      <td>72</td>\n",
       "      <td>Male</td>\n",
       "      <td>3.9</td>\n",
       "      <td>2.0</td>\n",
       "      <td>195</td>\n",
       "      <td>27</td>\n",
       "      <td>59</td>\n",
       "      <td>7.3</td>\n",
       "      <td>2.4</td>\n",
       "      <td>0.40</td>\n",
       "      <td>1</td>\n",
       "    </tr>\n",
       "  </tbody>\n",
       "</table>\n",
       "</div>"
      ],
      "text/plain": [
       "   Age  Gender  Total_Bilirubin  Direct_Bilirubin  Alkaline_Phosphotase  \\\n",
       "0   65  Female              0.7               0.1                   187   \n",
       "1   62    Male             10.9               5.5                   699   \n",
       "2   62    Male              7.3               4.1                   490   \n",
       "3   58    Male              1.0               0.4                   182   \n",
       "4   72    Male              3.9               2.0                   195   \n",
       "\n",
       "   Alamine_Aminotransferase  Aspartate_Aminotransferase  Total_Protiens  \\\n",
       "0                        16                          18             6.8   \n",
       "1                        64                         100             7.5   \n",
       "2                        60                          68             7.0   \n",
       "3                        14                          20             6.8   \n",
       "4                        27                          59             7.3   \n",
       "\n",
       "   Albumin  Albumin_and_Globulin_Ratio  Dataset  \n",
       "0      3.3                        0.90        1  \n",
       "1      3.2                        0.74        1  \n",
       "2      3.3                        0.89        1  \n",
       "3      3.4                        1.00        1  \n",
       "4      2.4                        0.40        1  "
      ]
     },
     "execution_count": 2,
     "metadata": {},
     "output_type": "execute_result"
    }
   ],
   "source": [
    "import pandas as pd \n",
    "df = pd.read_csv(\"indian_liver_patient.csv\")\n",
    "df.head()"
   ]
  },
  {
   "cell_type": "markdown",
   "id": "83cddcd8",
   "metadata": {},
   "source": [
    "# 2 Data Preprocessing\n",
    "\n",
    "### Exploring Dataset (Missing Values)\n",
    "### Encoding\n",
    "### Scalling \n",
    "### Balancing Classes\n",
    "### Feature Selection\n",
    "### Train Test Split"
   ]
  },
  {
   "cell_type": "markdown",
   "id": "f10f1f62",
   "metadata": {},
   "source": [
    "# Exploring Dataset"
   ]
  },
  {
   "cell_type": "code",
   "execution_count": 3,
   "id": "50adaa12",
   "metadata": {},
   "outputs": [
    {
     "data": {
      "text/plain": [
       "Age                           0\n",
       "Gender                        0\n",
       "Total_Bilirubin               0\n",
       "Direct_Bilirubin              0\n",
       "Alkaline_Phosphotase          0\n",
       "Alamine_Aminotransferase      0\n",
       "Aspartate_Aminotransferase    0\n",
       "Total_Protiens                0\n",
       "Albumin                       0\n",
       "Albumin_and_Globulin_Ratio    4\n",
       "Dataset                       0\n",
       "dtype: int64"
      ]
     },
     "execution_count": 3,
     "metadata": {},
     "output_type": "execute_result"
    }
   ],
   "source": [
    "df.isnull().sum()"
   ]
  },
  {
   "cell_type": "code",
   "execution_count": 4,
   "id": "e5e3a99b",
   "metadata": {},
   "outputs": [],
   "source": [
    "df.dropna(inplace=True)"
   ]
  },
  {
   "cell_type": "code",
   "execution_count": 5,
   "id": "b7e35bbc",
   "metadata": {},
   "outputs": [
    {
     "data": {
      "text/plain": [
       "(579, 11)"
      ]
     },
     "execution_count": 5,
     "metadata": {},
     "output_type": "execute_result"
    }
   ],
   "source": [
    "df.shape"
   ]
  },
  {
   "cell_type": "code",
   "execution_count": 6,
   "id": "e1ed3df8",
   "metadata": {},
   "outputs": [
    {
     "data": {
      "text/plain": [
       "13"
      ]
     },
     "execution_count": 6,
     "metadata": {},
     "output_type": "execute_result"
    }
   ],
   "source": [
    "df.duplicated().sum()"
   ]
  },
  {
   "cell_type": "code",
   "execution_count": 7,
   "id": "440c1d33",
   "metadata": {},
   "outputs": [],
   "source": [
    "df.drop_duplicates(inplace=True)"
   ]
  },
  {
   "cell_type": "markdown",
   "id": "8d645cf4",
   "metadata": {},
   "source": [
    "# Encoding\n",
    "\n",
    "\n",
    "- **Gender** is a categorical feature with values `Male` and `Female`.  \n",
    "- Convert it into numeric form using **Label Encoding** or **One-Hot Encoding**.\n",
    "\n",
    "### Example:\n",
    "| Gender | Encoded_Value |\n",
    "|---------|----------------|\n",
    "| Male    | 1 |\n",
    "| Female  | 0 |\n",
    "\n",
    "🧠 Encoding helps ML models process non-numeric (categorical) data effectively.\n"
   ]
  },
  {
   "cell_type": "code",
   "execution_count": 8,
   "id": "081e75f2",
   "metadata": {},
   "outputs": [
    {
     "data": {
      "text/html": [
       "<div>\n",
       "<style scoped>\n",
       "    .dataframe tbody tr th:only-of-type {\n",
       "        vertical-align: middle;\n",
       "    }\n",
       "\n",
       "    .dataframe tbody tr th {\n",
       "        vertical-align: top;\n",
       "    }\n",
       "\n",
       "    .dataframe thead th {\n",
       "        text-align: right;\n",
       "    }\n",
       "</style>\n",
       "<table border=\"1\" class=\"dataframe\">\n",
       "  <thead>\n",
       "    <tr style=\"text-align: right;\">\n",
       "      <th></th>\n",
       "      <th>Age</th>\n",
       "      <th>Gender</th>\n",
       "      <th>Total_Bilirubin</th>\n",
       "      <th>Direct_Bilirubin</th>\n",
       "      <th>Alkaline_Phosphotase</th>\n",
       "      <th>Alamine_Aminotransferase</th>\n",
       "      <th>Aspartate_Aminotransferase</th>\n",
       "      <th>Total_Protiens</th>\n",
       "      <th>Albumin</th>\n",
       "      <th>Albumin_and_Globulin_Ratio</th>\n",
       "      <th>Dataset</th>\n",
       "    </tr>\n",
       "  </thead>\n",
       "  <tbody>\n",
       "    <tr>\n",
       "      <th>0</th>\n",
       "      <td>65</td>\n",
       "      <td>0</td>\n",
       "      <td>0.7</td>\n",
       "      <td>0.1</td>\n",
       "      <td>187</td>\n",
       "      <td>16</td>\n",
       "      <td>18</td>\n",
       "      <td>6.8</td>\n",
       "      <td>3.3</td>\n",
       "      <td>0.90</td>\n",
       "      <td>1</td>\n",
       "    </tr>\n",
       "    <tr>\n",
       "      <th>1</th>\n",
       "      <td>62</td>\n",
       "      <td>1</td>\n",
       "      <td>10.9</td>\n",
       "      <td>5.5</td>\n",
       "      <td>699</td>\n",
       "      <td>64</td>\n",
       "      <td>100</td>\n",
       "      <td>7.5</td>\n",
       "      <td>3.2</td>\n",
       "      <td>0.74</td>\n",
       "      <td>1</td>\n",
       "    </tr>\n",
       "  </tbody>\n",
       "</table>\n",
       "</div>"
      ],
      "text/plain": [
       "   Age  Gender  Total_Bilirubin  Direct_Bilirubin  Alkaline_Phosphotase  \\\n",
       "0   65       0              0.7               0.1                   187   \n",
       "1   62       1             10.9               5.5                   699   \n",
       "\n",
       "   Alamine_Aminotransferase  Aspartate_Aminotransferase  Total_Protiens  \\\n",
       "0                        16                          18             6.8   \n",
       "1                        64                         100             7.5   \n",
       "\n",
       "   Albumin  Albumin_and_Globulin_Ratio  Dataset  \n",
       "0      3.3                        0.90        1  \n",
       "1      3.2                        0.74        1  "
      ]
     },
     "execution_count": 8,
     "metadata": {},
     "output_type": "execute_result"
    }
   ],
   "source": [
    "# using sklearn\n",
    "from sklearn.preprocessing import LabelEncoder, OrdinalEncoder\n",
    "\n",
    "encoder = LabelEncoder()\n",
    "df['Gender'] = encoder.fit_transform(df['Gender'])\n",
    "df.head(2)"
   ]
  },
  {
   "cell_type": "code",
   "execution_count": 9,
   "id": "71afef61",
   "metadata": {},
   "outputs": [],
   "source": [
    "# manually\n",
    "# df['Gender'] = df['Gender'].map({\"Male\":1, \"Female\":0})"
   ]
  },
  {
   "cell_type": "markdown",
   "id": "c592a496",
   "metadata": {},
   "source": [
    "\n",
    "## ⚙️ Feature Scaling\n",
    "\n",
    "- Scaling ensures all numerical features are on a similar range for better model performance.  \n",
    "- Common methods:\n",
    "  - **StandardScaler:** Scales data to mean = 0 and std = 1  \n",
    "  - **MinMaxScaler:** Scales values between 0 and 1\n",
    "\n",
    "### Example:\n",
    "| Feature | Before | After (MinMax) |\n",
    "|----------|---------|----------------|\n",
    "| Age | 65 | 0.78 |\n",
    "| Total_Bilirubin | 10.9 | 0.85 |\n",
    "\n",
    "📊 Apply scaling to all numeric columns (except target) before model training.\n"
   ]
  },
  {
   "cell_type": "code",
   "execution_count": 10,
   "id": "f4728cda",
   "metadata": {},
   "outputs": [
    {
     "data": {
      "text/html": [
       "<div>\n",
       "<style scoped>\n",
       "    .dataframe tbody tr th:only-of-type {\n",
       "        vertical-align: middle;\n",
       "    }\n",
       "\n",
       "    .dataframe tbody tr th {\n",
       "        vertical-align: top;\n",
       "    }\n",
       "\n",
       "    .dataframe thead th {\n",
       "        text-align: right;\n",
       "    }\n",
       "</style>\n",
       "<table border=\"1\" class=\"dataframe\">\n",
       "  <thead>\n",
       "    <tr style=\"text-align: right;\">\n",
       "      <th></th>\n",
       "      <th>Age</th>\n",
       "      <th>Gender</th>\n",
       "      <th>Total_Bilirubin</th>\n",
       "      <th>Direct_Bilirubin</th>\n",
       "      <th>Alkaline_Phosphotase</th>\n",
       "      <th>Alamine_Aminotransferase</th>\n",
       "      <th>Aspartate_Aminotransferase</th>\n",
       "      <th>Total_Protiens</th>\n",
       "      <th>Albumin</th>\n",
       "      <th>Albumin_and_Globulin_Ratio</th>\n",
       "      <th>Dataset</th>\n",
       "    </tr>\n",
       "  </thead>\n",
       "  <tbody>\n",
       "    <tr>\n",
       "      <th>0</th>\n",
       "      <td>1.236928</td>\n",
       "      <td>0</td>\n",
       "      <td>-0.420124</td>\n",
       "      <td>-0.495190</td>\n",
       "      <td>-0.429625</td>\n",
       "      <td>-0.352659</td>\n",
       "      <td>-0.315148</td>\n",
       "      <td>0.280819</td>\n",
       "      <td>0.194225</td>\n",
       "      <td>-0.150315</td>\n",
       "      <td>1</td>\n",
       "    </tr>\n",
       "    <tr>\n",
       "      <th>1</th>\n",
       "      <td>1.052432</td>\n",
       "      <td>1</td>\n",
       "      <td>1.203777</td>\n",
       "      <td>1.406906</td>\n",
       "      <td>1.654054</td>\n",
       "      <td>-0.088755</td>\n",
       "      <td>-0.033926</td>\n",
       "      <td>0.925059</td>\n",
       "      <td>0.068445</td>\n",
       "      <td>-0.651328</td>\n",
       "      <td>1</td>\n",
       "    </tr>\n",
       "    <tr>\n",
       "      <th>2</th>\n",
       "      <td>1.052432</td>\n",
       "      <td>1</td>\n",
       "      <td>0.630636</td>\n",
       "      <td>0.913770</td>\n",
       "      <td>0.803490</td>\n",
       "      <td>-0.110747</td>\n",
       "      <td>-0.143671</td>\n",
       "      <td>0.464887</td>\n",
       "      <td>0.194225</td>\n",
       "      <td>-0.181628</td>\n",
       "      <td>1</td>\n",
       "    </tr>\n",
       "  </tbody>\n",
       "</table>\n",
       "</div>"
      ],
      "text/plain": [
       "        Age  Gender  Total_Bilirubin  Direct_Bilirubin  Alkaline_Phosphotase  \\\n",
       "0  1.236928       0        -0.420124         -0.495190             -0.429625   \n",
       "1  1.052432       1         1.203777          1.406906              1.654054   \n",
       "2  1.052432       1         0.630636          0.913770              0.803490   \n",
       "\n",
       "   Alamine_Aminotransferase  Aspartate_Aminotransferase  Total_Protiens  \\\n",
       "0                 -0.352659                   -0.315148        0.280819   \n",
       "1                 -0.088755                   -0.033926        0.925059   \n",
       "2                 -0.110747                   -0.143671        0.464887   \n",
       "\n",
       "    Albumin  Albumin_and_Globulin_Ratio  Dataset  \n",
       "0  0.194225                   -0.150315        1  \n",
       "1  0.068445                   -0.651328        1  \n",
       "2  0.194225                   -0.181628        1  "
      ]
     },
     "execution_count": 10,
     "metadata": {},
     "output_type": "execute_result"
    }
   ],
   "source": [
    "from sklearn.preprocessing import StandardScaler, MinMaxScaler \n",
    "\n",
    "features = ['Age', 'Total_Bilirubin', 'Direct_Bilirubin',\n",
    "       'Alkaline_Phosphotase', 'Alamine_Aminotransferase',\n",
    "       'Aspartate_Aminotransferase', 'Total_Protiens', 'Albumin',\n",
    "       'Albumin_and_Globulin_Ratio']\n",
    "\n",
    "\n",
    "scaler = StandardScaler()\n",
    "\n",
    "df[features] = scaler.fit_transform(df[features])\n",
    "\n",
    "df.head(3)"
   ]
  },
  {
   "cell_type": "markdown",
   "id": "0163e65d",
   "metadata": {},
   "source": [
    "# Data Balancing\n",
    "\n",
    "#### ⚖️ Class Balance\n",
    "\n",
    "- Check if target classes (`0` = No Disease, `1` = Liver Disease) are balanced.  \n",
    "- Imbalanced data can bias the model toward the majority class.  \n",
    "- Use techniques like:\n",
    "  - **SMOTE / Oversampling** → add minority samples  \n",
    "  - **Undersampling** → reduce majority samples  \n",
    "\n",
    "### Example:\n",
    "| Class | Count |\n",
    "|--------|--------|\n",
    "| 0 | 150 |\n",
    "| 1 | 416 |\n",
    "\n",
    "📈 Aim for a balanced distribution before training.\n"
   ]
  },
  {
   "cell_type": "code",
   "execution_count": 11,
   "id": "83a8156e",
   "metadata": {},
   "outputs": [
    {
     "name": "stderr",
     "output_type": "stream",
     "text": [
      "\n",
      "[notice] A new release of pip is available: 24.2 -> 25.2\n",
      "[notice] To update, run: python.exe -m pip install --upgrade pip\n"
     ]
    }
   ],
   "source": [
    "!pip install -q imbalanced-learn"
   ]
  },
  {
   "cell_type": "code",
   "execution_count": 12,
   "id": "6ff4507d",
   "metadata": {},
   "outputs": [
    {
     "data": {
      "text/plain": [
       "Dataset\n",
       "1    404\n",
       "2    404\n",
       "Name: count, dtype: int64"
      ]
     },
     "execution_count": 12,
     "metadata": {},
     "output_type": "execute_result"
    }
   ],
   "source": [
    "from imblearn.over_sampling import SMOTE\n",
    "\n",
    "X = df.drop('Dataset',axis=1)\n",
    "y = df['Dataset']\n",
    "\n",
    "smote = SMOTE(random_state=42)\n",
    "\n",
    "X_resampled, y_resampled = smote.fit_resample(X, y)\n",
    "\n",
    "y_resampled.value_counts()"
   ]
  },
  {
   "cell_type": "markdown",
   "id": "df81d63b",
   "metadata": {},
   "source": [
    "\n",
    "## ✂️ Train-Test Split\n",
    "\n",
    "- Split the dataset to evaluate model performance on unseen data.  \n",
    "- Common ratio: **80% training**, **20% testing**.  \n",
    "- Use `train_test_split()` from `sklearn.model_selection`.\n",
    "\n"
   ]
  },
  {
   "cell_type": "code",
   "execution_count": 13,
   "id": "a0a7fe59",
   "metadata": {},
   "outputs": [],
   "source": [
    "from sklearn.model_selection import train_test_split \n",
    "\n",
    "X_train, X_test, y_train, y_test = train_test_split(X_resampled, y_resampled, test_size=0.2, random_state=42)"
   ]
  },
  {
   "cell_type": "markdown",
   "id": "b1481336",
   "metadata": {},
   "source": [
    "# 3 Train and Eval Models\n",
    "\n",
    "### logistic regression\n",
    "### SVC\n",
    "### Decision Tree\n",
    "### Random Forest"
   ]
  },
  {
   "cell_type": "code",
   "execution_count": 14,
   "id": "6f65f43e",
   "metadata": {},
   "outputs": [
    {
     "name": "stdout",
     "output_type": "stream",
     "text": [
      "\n",
      "\n",
      "               precision    recall  f1-score   support\n",
      "\n",
      "           1       0.79      0.59      0.68        76\n",
      "           2       0.70      0.86      0.77        86\n",
      "\n",
      "    accuracy                           0.73       162\n",
      "   macro avg       0.75      0.73      0.73       162\n",
      "weighted avg       0.74      0.73      0.73       162\n",
      "\n",
      "\n",
      "\n",
      " [[45 31]\n",
      " [12 74]]\n"
     ]
    }
   ],
   "source": [
    "from sklearn.linear_model import LogisticRegression\n",
    "from sklearn.metrics import confusion_matrix, classification_report\n",
    "\n",
    "model = LogisticRegression()\n",
    "\n",
    "model.fit(X_train,y_train)\n",
    "\n",
    "y_pred = model.predict(X_test)\n",
    "\n",
    "print(\"\\n\\n\",classification_report(y_test, y_pred))\n",
    "\n",
    "print(\"\\n\\n\", confusion_matrix(y_test, y_pred))"
   ]
  },
  {
   "cell_type": "markdown",
   "id": "730d7c08",
   "metadata": {},
   "source": [
    "### Random Forest"
   ]
  },
  {
   "cell_type": "code",
   "execution_count": 15,
   "id": "682f4f54",
   "metadata": {},
   "outputs": [
    {
     "name": "stdout",
     "output_type": "stream",
     "text": [
      "\n",
      "\n",
      "               precision    recall  f1-score   support\n",
      "\n",
      "           1       0.81      0.76      0.78        76\n",
      "           2       0.80      0.84      0.82        86\n",
      "\n",
      "    accuracy                           0.80       162\n",
      "   macro avg       0.80      0.80      0.80       162\n",
      "weighted avg       0.80      0.80      0.80       162\n",
      "\n",
      "\n",
      "\n",
      " [[58 18]\n",
      " [14 72]]\n"
     ]
    }
   ],
   "source": [
    "from sklearn.ensemble import RandomForestClassifier\n",
    "from sklearn.metrics import confusion_matrix, classification_report\n",
    "\n",
    "model_r = RandomForestClassifier()\n",
    "\n",
    "model_r.fit(X_train,y_train)\n",
    "\n",
    "y_pred = model_r.predict(X_test)\n",
    "\n",
    "print(\"\\n\\n\",classification_report(y_test, y_pred))\n",
    "\n",
    "print(\"\\n\\n\", confusion_matrix(y_test, y_pred))"
   ]
  },
  {
   "cell_type": "markdown",
   "id": "944f1163",
   "metadata": {},
   "source": [
    "### SVC"
   ]
  },
  {
   "cell_type": "code",
   "execution_count": 16,
   "id": "ffca247c",
   "metadata": {},
   "outputs": [
    {
     "name": "stdout",
     "output_type": "stream",
     "text": [
      "\n",
      "\n",
      "               precision    recall  f1-score   support\n",
      "\n",
      "           1       0.82      0.61      0.70        76\n",
      "           2       0.72      0.88      0.79        86\n",
      "\n",
      "    accuracy                           0.75       162\n",
      "   macro avg       0.77      0.74      0.74       162\n",
      "weighted avg       0.77      0.75      0.75       162\n",
      "\n",
      "\n",
      "\n",
      " [[46 30]\n",
      " [10 76]]\n"
     ]
    }
   ],
   "source": [
    "from sklearn.svm import SVC\n",
    "from sklearn.metrics import confusion_matrix, classification_report\n",
    "\n",
    "model = SVC()\n",
    "\n",
    "model.fit(X_train,y_train)\n",
    "\n",
    "y_pred = model.predict(X_test)\n",
    "\n",
    "print(\"\\n\\n\",classification_report(y_test, y_pred))\n",
    "\n",
    "print(\"\\n\\n\", confusion_matrix(y_test, y_pred))"
   ]
  },
  {
   "cell_type": "markdown",
   "id": "4c70efea",
   "metadata": {},
   "source": [
    "# 4. Inference Prediction System "
   ]
  },
  {
   "cell_type": "code",
   "execution_count": 17,
   "id": "d75966c7",
   "metadata": {},
   "outputs": [
    {
     "name": "stdout",
     "output_type": "stream",
     "text": [
      "Liver Disease\n"
     ]
    },
    {
     "name": "stderr",
     "output_type": "stream",
     "text": [
      "c:\\Users\\Noor Saeed\\AppData\\Local\\Programs\\Python\\Python311\\Lib\\site-packages\\sklearn\\base.py:493: UserWarning: X does not have valid feature names, but RandomForestClassifier was fitted with feature names\n",
      "  warnings.warn(\n"
     ]
    }
   ],
   "source": [
    "# test 1\n",
    "import numpy as np \n",
    "\n",
    "pred = model_r.predict(np.array([df.iloc[0,:-1]]))\n",
    "\n",
    "if pred[0] == 1:\n",
    "    print(\"Liver Disease\")\n",
    "else:\n",
    "    print(\"No Liver Disease\")"
   ]
  },
  {
   "cell_type": "code",
   "execution_count": 18,
   "id": "9dbde50d",
   "metadata": {},
   "outputs": [
    {
     "name": "stdout",
     "output_type": "stream",
     "text": [
      "No Liver Disease\n"
     ]
    },
    {
     "name": "stderr",
     "output_type": "stream",
     "text": [
      "c:\\Users\\Noor Saeed\\AppData\\Local\\Programs\\Python\\Python311\\Lib\\site-packages\\sklearn\\base.py:493: UserWarning: X does not have valid feature names, but RandomForestClassifier was fitted with feature names\n",
      "  warnings.warn(\n"
     ]
    }
   ],
   "source": [
    "# test 2\n",
    "\n",
    "import numpy as np \n",
    "\n",
    "pred = model_r.predict(np.array([df.iloc[23,:-1]]))\n",
    "\n",
    "if pred[0] == 1:\n",
    "    print(\"Liver Disease\")\n",
    "else:\n",
    "    print(\"No Liver Disease\")"
   ]
  }
 ],
 "metadata": {
  "kernelspec": {
   "display_name": "Python 3",
   "language": "python",
   "name": "python3"
  },
  "language_info": {
   "codemirror_mode": {
    "name": "ipython",
    "version": 3
   },
   "file_extension": ".py",
   "mimetype": "text/x-python",
   "name": "python",
   "nbconvert_exporter": "python",
   "pygments_lexer": "ipython3",
   "version": "3.11.1"
  }
 },
 "nbformat": 4,
 "nbformat_minor": 5
}
